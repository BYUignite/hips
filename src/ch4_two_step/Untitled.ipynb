{
 "cells": [
  {
   "cell_type": "code",
   "execution_count": 1,
   "id": "149a8b3f",
   "metadata": {},
   "outputs": [],
   "source": [
    "import numpy as np\n",
    "import cantera as ct"
   ]
  },
  {
   "cell_type": "code",
   "execution_count": 2,
   "id": "f53a8423",
   "metadata": {},
   "outputs": [],
   "source": [
    "\n",
    "gas = ct.Solution(\"2S_CH4_BFER.yaml\") "
   ]
  },
  {
   "cell_type": "code",
   "execution_count": 4,
   "id": "241288ae",
   "metadata": {},
   "outputs": [],
   "source": [
    "Tr = 298.15\n",
    "P = 1.01325e+05\n",
    "gas.TPX = Tr, P, \"CH4:1, O2:2, N2:7.52\"\n",
    "hR = gas.enthalpy_mass"
   ]
  },
  {
   "cell_type": "code",
   "execution_count": 5,
   "id": "39ca0a55",
   "metadata": {},
   "outputs": [
    {
     "name": "stdout",
     "output_type": "stream",
     "text": [
      "-256579.71591916375\n"
     ]
    }
   ],
   "source": [
    "print(hR)"
   ]
  },
  {
   "cell_type": "code",
   "execution_count": 7,
   "id": "cf703054",
   "metadata": {},
   "outputs": [
    {
     "data": {
      "text/plain": [
       "[<Species O2>,\n",
       " <Species H2O>,\n",
       " <Species CH4>,\n",
       " <Species CO>,\n",
       " <Species CO2>,\n",
       " <Species N2>]"
      ]
     },
     "execution_count": 7,
     "metadata": {},
     "output_type": "execute_result"
    }
   ],
   "source": [
    "gas.species()"
   ]
  },
  {
   "cell_type": "code",
   "execution_count": 8,
   "id": "12dc447a",
   "metadata": {},
   "outputs": [],
   "source": [
    "gas.HPX = hR, P, \"CO2:1, H2O:2, N2:7.52\"       # note, enthalpy is reactant enthalpy\n",
    "yst = gas.Y"
   ]
  },
  {
   "cell_type": "code",
   "execution_count": 9,
   "id": "893f58ab",
   "metadata": {},
   "outputs": [
    {
     "data": {
      "text/plain": [
       "array([0.        , 0.12394038, 0.        , 0.        , 0.15138752,\n",
       "       0.7246721 ])"
      ]
     },
     "execution_count": 9,
     "metadata": {},
     "output_type": "execute_result"
    }
   ],
   "source": [
    "yst"
   ]
  },
  {
   "cell_type": "code",
   "execution_count": null,
   "id": "6d6825d1",
   "metadata": {},
   "outputs": [],
   "source": []
  },
  {
   "cell_type": "code",
   "execution_count": null,
   "id": "d315c21b",
   "metadata": {},
   "outputs": [],
   "source": []
  }
 ],
 "metadata": {
  "kernelspec": {
   "display_name": "Python 3 (ipykernel)",
   "language": "python",
   "name": "python3"
  },
  "language_info": {
   "codemirror_mode": {
    "name": "ipython",
    "version": 3
   },
   "file_extension": ".py",
   "mimetype": "text/x-python",
   "name": "python",
   "nbconvert_exporter": "python",
   "pygments_lexer": "ipython3",
   "version": "3.11.0"
  }
 },
 "nbformat": 4,
 "nbformat_minor": 5
}
