{
 "cells": [
  {
   "cell_type": "markdown",
   "metadata": {},
   "source": [
    "This is used to specify the mean velocity profile. This profile is written to a file, which can then be put in the yaml file.\n",
    "\n",
    "Another approach is to create a bunch of restart files with various turbulent initial conditions. That is in a different file."
   ]
  },
  {
   "cell_type": "code",
   "execution_count": 11,
   "metadata": {
    "collapsed": false
   },
   "outputs": [],
   "source": [
    "import numpy as np\n",
    "%matplotlib inline\n",
    "import matplotlib.pyplot as plt\n"
   ]
  },
  {
   "cell_type": "code",
   "execution_count": 12,
   "metadata": {
    "collapsed": false
   },
   "outputs": [],
   "source": [
    "djet = 0.526E-2         # m\n",
    "uavg = 53.0            # m/s\n",
    "npts = 100             # points over the jet diameter\n",
    "umua = 69.876/53.0 #1.23            # umax/uavg 1.28"
   ]
  },
  {
   "cell_type": "code",
   "execution_count": 48,
   "metadata": {
    "collapsed": false
   },
   "outputs": [
    {
     "name": "stdout",
     "output_type": "stream",
     "text": [
      "69.876 5.0234230469\n"
     ]
    }
   ],
   "source": [
    "umax = umua*uavg       # m/s\n",
    "rjet = djet * 0.5      # m\n",
    "\n",
    "aa = 2.0*(1.0-umua)\n",
    "bb = 3.0\n",
    "cc = 1.0\n",
    "npow = (-bb-np.sqrt(bb**2.0 - 4.0*aa*cc))/2.0/aa\n",
    "\n",
    "rj = np.linspace(0,rjet,npts)\n",
    "uj = umax * (1.0-abs(rj)/rjet)**(1.0/npow)\n",
    "\n",
    "utau = 3.738\n",
    "rj2 = np.linspace(0,rjet*0.9999,npts)\n",
    "uj2 = umax + 1.0/0.41*utau*(np.sqrt(rj2/rjet) + np.log(1.0-np.sqrt(rj2/rjet)))\n",
    "print(umax, npow)"
   ]
  },
  {
   "cell_type": "code",
   "execution_count": 49,
   "metadata": {
    "collapsed": false
   },
   "outputs": [],
   "source": [
    "rcf = np.array([1, 1.1, 1.2, 1.4, 1.7, 1.8, 2.5, 3.2, 3.8,4]) * djet    # DOL added last point to get flat interpolation\n",
    "ucf = np.array([0,4.5,7.9,8.25,8.6,8.7,9,9.15,9.25,9.25])"
   ]
  },
  {
   "cell_type": "code",
   "execution_count": 50,
   "metadata": {
    "collapsed": false
   },
   "outputs": [],
   "source": [
    "r = np.hstack((rj,rcf))\n",
    "r = np.hstack((-np.flipud(r), r))\n",
    "u = np.hstack((uj,ucf))\n",
    "u = np.hstack((np.flipud(u),u))\n",
    "u[np.where(u<0.001)] = 0.5\n",
    "\n",
    "u2 = np.hstack((uj2,ucf))\n",
    "u2 = np.hstack((np.flipud(u2),u2))\n",
    "u2[np.where(u2<0.001)] = 0.5"
   ]
  },
  {
   "cell_type": "code",
   "execution_count": 51,
   "metadata": {
    "collapsed": false
   },
   "outputs": [
    {
     "data": {
      "text/plain": [
       "[<matplotlib.lines.Line2D at 0x111971e10>]"
      ]
     },
     "execution_count": 51,
     "metadata": {},
     "output_type": "execute_result"
    },
    {
     "data": {
      "image/png": "[encoded data removed]",
      "text/plain": [
       "<matplotlib.figure.Figure at 0x111971fd0>"
      ]
     },
     "metadata": {},
     "output_type": "display_data"
    }
   ],
   "source": [
    "plt.plot(r,u)\n",
    "plt.plot(r,u2)"
   ]
  },
  {
   "cell_type": "code",
   "execution_count": 25,
   "metadata": {
    "collapsed": false
   },
   "outputs": [],
   "source": [
    "d = np.vstack((r,u)).T\n",
    "np.savetxt(\"v0.dat\", d, header=\"r (m), u (m/s)\")"
   ]
  }
 ],
 "metadata": {
  "kernelspec": {
   "display_name": "Python 3",
   "language": "python",
   "name": "python3"
  },
  "language_info": {
   "codemirror_mode": {
    "name": "ipython",
    "version": 3
   },
   "file_extension": ".py",
   "mimetype": "text/x-python",
   "name": "python",
   "nbconvert_exporter": "python",
   "pygments_lexer": "ipython3",
   "version": "3.5.1"
  }
 },
 "nbformat": 4,
 "nbformat_minor": 0
}
